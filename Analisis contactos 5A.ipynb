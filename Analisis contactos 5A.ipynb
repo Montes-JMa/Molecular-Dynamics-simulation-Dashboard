{
 "cells": [
  {
   "cell_type": "code",
   "execution_count": 1,
   "id": "d32f4246",
   "metadata": {},
   "outputs": [],
   "source": [
    "import pandas as pd \n",
    "import numpy as np \n",
    "import plotly.graph_objects as go\n",
    "import plotly.io as pio"
   ]
  },
  {
   "cell_type": "code",
   "execution_count": null,
   "id": "ae47f7a0",
   "metadata": {},
   "outputs": [],
   "source": [
    "# df = pd.read_csv(\"/home/chemachiles/OneDrive/gamma/assets/gzr.out\",sep=\"\\s+\") \n",
    "# nn = pd.read_csv(\"/home/chemachiles/OneDrive/gamma/assets/ngzr.out\",sep=\"\\s+\") \n",
    "# cc = df.merge(nn, on='#Frame')\n",
    "# cc = cc.set_index('#Frame')\n",
    "\n",
    "df = pd.read_csv(\"/home/chemachiles/OneDrive/gamma/assets/gzr2.out\",sep=\"\\s+\") \n",
    "nn = pd.read_csv(\"/home/chemachiles/OneDrive/gamma/assets/ngzr2.out\",sep=\"\\s+\") \n",
    "cc = df.merge(nn, on='#Frame')\n",
    "cc = cc.set_index('#Frame')"
   ]
  },
  {
   "cell_type": "code",
   "execution_count": null,
   "id": "8cd2cf2e",
   "metadata": {},
   "outputs": [],
   "source": [
    "#Definimos las subpartes de analisis de e2012  y de la cavidad\n",
    "imidazol = [\"@N2_\", \"@C10_\", \"@N3_\", \"@C23_\", \"@C22_\",\"@H9_\", \"@H20_\", \"@C25_\", \"@H24_\", \"@H25_\", \"@H26_\"]\n",
    "metoxi = [\"@C20_\", \"@C8_\", \"@C19_\", \"@C17_\", \"@C5_\", \"@C9_\", \"@O2_\", \"@C24_\", \"@H21_\", \"@H22_\", \"@H23_\", \"@H19_\", \"@H5_\", \"@H8_\"]\n",
    "piper = [\"@C14_\", \"@C15_\", \"@N1_\", \"@C11_\", \"@C12_\", \"@C1_\", \"@O1_\", \"@H10_\", \"@H11_\", \"@H12_\", \"@H13_\", \"@H1_\", \"@H2_\", \"@C3_\", \"@H3_\", \"@C13_\", \"@H14_\"]\n",
    "metil = [\"@C13_\", \"@H14_\", \"@C16_\", \"@H15_\", \"@H16_\", \"@H17_\"]\n",
    "# metil = [\"@C16_\", \"@H15_\", \"@H16_\", \"@H17_\"]\n",
    "fluoro = [\"@C2_\", \"@C4_\", \"@C6_\", \"@C21_\", \"@C7_\", \"@C18_\", \"@H4_\", \"@H6_\", \"@F1_\", \"@H7_\", \"@H18_\"]\n",
    "gzr = imidazol+metoxi+piper+metil+fluoro\n",
    "partes_e2012 = [imidazol,metoxi,piper,metil,fluoro,gzr]\n",
    "\n",
    "\n",
    "#Aminoacidos de la cavidad\n",
    "aa = pd.read_csv(\"/home/chemachiles/OneDrive/gamma/assets/numerado.csv\")    \n",
    "aa[\"Subunidad\"] = aa[\"Subunidad\"].replace(\"SUS\", \"AB\")\n",
    "cav= [\"209\",\"210\",\"700\", \"701\", \"705\", \"706\",\"707\",\"708\",\"709\",\"710\",\"767\",\"768\", \"771\", \"772\",\"773\",\"774\", \"775\", \"776\", \"779\", \"826\",\"827\",\"828\",\"829\",\"830\",\"831\",\"832\",\"834\", \"835\",\"1329\",\"1330\",\"1331\",\"1334\", \"1338\",\"1341\", \"1342\",\"1343\",\"1344\",\"1345\"]\n",
    "cav_chido = [aa[(aa[\"Numeracion\"]==int(i))&(aa[\"Sistema\"]==\"Complejo Enzima-Sustrato\")].values[0][1] + \"-\" +str(aa[(aa[\"Numeracion\"]==int(i))&(aa[\"Sistema\"]==\"Complejo Enzima-Sustrato\")].values[0][2])+\"-\" +str(aa[(aa[\"Numeracion\"]==int(i))&(aa[\"Sistema\"]==\"Complejo Enzima-Sustrato\")].values[0][4])for i in  cav]"
   ]
  },
  {
   "cell_type": "code",
   "execution_count": null,
   "id": "6c166c7d",
   "metadata": {},
   "outputs": [],
   "source": [
    "#Primero vamos a separar el df de contactos en cada una de las subpartes de E2012 \n",
    "cols = [[] for i in partes_e2012]\n",
    "c = -1\n",
    "for partes in partes_e2012: #para cada parte de E2012\n",
    "    c+=1\n",
    "    for atom in partes:\n",
    "        for  col in cc.columns.values: \n",
    "            if atom in col:   #separa en una lista los nombres de las columnas \n",
    "                cols[c].append(col)"
   ]
  },
  {
   "cell_type": "code",
   "execution_count": null,
   "id": "4d168017",
   "metadata": {},
   "outputs": [],
   "source": [
    "#corrobora que hay el mismo numero de columnas en cols que en el df \n",
    "np.sum(np.array([len(i) for i in cols[:5]])), cc.shape[1]"
   ]
  },
  {
   "cell_type": "code",
   "execution_count": null,
   "id": "ac05f3b8",
   "metadata": {},
   "outputs": [],
   "source": [
    "#Ahora vamos a separar por subpartes y por cada aminoacido, asi podemos ver con quien si esta interactuando\n",
    "cols_amino = [[[] for i in cav] for j in partes_e2012]\n",
    "c = -1\n",
    "for partes in cols:               #Para cada parte en e2012\n",
    "    c+=1\n",
    "    c2=-1\n",
    "    for aa in cav:                #checar cada aminoacido\n",
    "        c2+=1\n",
    "        for atom in partes:       #si hay un contacto o no \n",
    "            if aa in atom:\n",
    "                cols_amino[c][c2].append(atom)"
   ]
  },
  {
   "cell_type": "code",
   "execution_count": null,
   "id": "0f27bccc",
   "metadata": {},
   "outputs": [],
   "source": [
    "#corrobora que hay el mismo numero de columnas en cols_amino que en el df \n",
    "tt = 0\n",
    "for i in  range(len(cols_amino)-1):\n",
    "    for j in range(len(cols_amino[i])):\n",
    "        tt += cc[cols_amino[i][j]].shape[1]\n",
    "        \n",
    "tt, cc.shape[1]"
   ]
  },
  {
   "cell_type": "code",
   "execution_count": null,
   "id": "df1253bb",
   "metadata": {},
   "outputs": [],
   "source": [
    "#Hagamos la sumas de los contactos\n",
    "contactos = [[[] for i in cav] for j in partes_e2012]\n",
    "c = -1\n",
    "for i in  cols_amino:                #Para cada fragmento de E2012\n",
    "    c+=1\n",
    "    c2=-1\n",
    "    for amino in i:                  #Que tiene asociado por cada aminoacido de la cavidad\n",
    "        c2+=1\n",
    "        if len(amino)==0:            #Si no hay columnas con contactos en automatico pon cero\n",
    "            contactos[c][c2].append(0)\n",
    "        else:\n",
    "#             contactos[c][c2].append(np.mean(np.sum(cc[cols_amino[c][c2]].values, axis=1)/np.max(np.max(cc[cols_amino[c][c2]].values,axis=1))))\n",
    "            contactos[c][c2].append(np.mean(np.sum(cc[cols_amino[c][c2]].values, axis=1)/np.max(np.sum(cc[cols_amino[c][c2]].values, axis=1))))\n",
    "#La fraccion de contactos la calculo como contactos promedio por frame / el numero de contactos posibles  "
   ]
  },
  {
   "cell_type": "code",
   "execution_count": null,
   "id": "3ea9d094",
   "metadata": {},
   "outputs": [],
   "source": [
    "cav_chido[0] =\"<b>NCST-ILE-242\"\n",
    "cav_chido[1] =\"<b>NCST-ASN-243\"\n",
    "cav_chido[2] =\"<b>PSEN-PHE-105\"\n",
    "cav_chido[3] =\"<b>PSEN-TYR-106\"\n",
    "# cav_chido[12] =\"<b>PSEN-PHE-176\"\n",
    "cav_chido[13] =\"<b>PSEN-PHE-177\"\n",
    "cav_chido[16] =\"<b>PSEN-ILE-180\"\n",
    "cav_chido[24] =\"<b>PSEN-VAL-236\"\n",
    "cav_chido[27] =\"<b>PSEN-TYR-240\""
   ]
  },
  {
   "cell_type": "code",
   "execution_count": null,
   "id": "58560dc5",
   "metadata": {},
   "outputs": [],
   "source": [
    "cav[]"
   ]
  },
  {
   "cell_type": "code",
   "execution_count": null,
   "id": "75a011e9",
   "metadata": {},
   "outputs": [],
   "source": [
    "contactos = np.array(contactos).reshape(6,len(cav_chido))\n",
    "\n",
    "fig2 = go.Figure()\n",
    "fig2.add_traces(go.Heatmap(z=contactos.flatten(),\n",
    "                          x=cav_chido*6,\n",
    "                          y=np.array([[i]*len(cav) for i in[\"Metilmidazol\",\"Metoxifenilo\",\"Piperidinona\",\"Metilo\",\"Fluorofenilo\",\"E2012\"]]).flatten(),\n",
    "                          colorscale='OrRd'))\n",
    "\n",
    "fig2.update_layout(title=\"Contactos a 5Å\",title_x=0.5,font=dict(family=\"Courier New, monospace\",size=45))\n",
    "fig2.data[0].colorbar.title.text = \"Frac. de contactos\"\n",
    "fig2.data[0].colorbar.titleside = \"right\"\n",
    "fig2.update_xaxes(tickangle=-90,tickfont=dict(family=\"Courier New, monospace\",size=30))\n",
    "fig2.update_yaxes(tickfont=dict(family=\"Courier New, monospace\",size=45))"
   ]
  },
  {
   "cell_type": "code",
   "execution_count": null,
   "id": "ba2a5765",
   "metadata": {},
   "outputs": [],
   "source": [
    "pio.write_image(fig2, \"/home/chemachiles/OneDrive/gamma/figure/contactos_nuevasimul.png\", width=3*600, height=1.5*600, scale=1)"
   ]
  },
  {
   "cell_type": "code",
   "execution_count": null,
   "id": "6f74521f",
   "metadata": {},
   "outputs": [],
   "source": []
  }
 ],
 "metadata": {
  "kernelspec": {
   "display_name": "Python 3 (ipykernel)",
   "language": "python",
   "name": "python3"
  },
  "language_info": {
   "codemirror_mode": {
    "name": "ipython",
    "version": 3
   },
   "file_extension": ".py",
   "mimetype": "text/x-python",
   "name": "python",
   "nbconvert_exporter": "python",
   "pygments_lexer": "ipython3",
   "version": "3.10.12"
  },
  "toc": {
   "base_numbering": 1,
   "nav_menu": {},
   "number_sections": true,
   "sideBar": true,
   "skip_h1_title": false,
   "title_cell": "Table of Contents",
   "title_sidebar": "Contents",
   "toc_cell": false,
   "toc_position": {},
   "toc_section_display": true,
   "toc_window_display": false
  }
 },
 "nbformat": 4,
 "nbformat_minor": 5
}

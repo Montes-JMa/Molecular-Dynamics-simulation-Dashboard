{
 "cells": [
  {
   "cell_type": "code",
   "execution_count": 1,
   "id": "63a085c8",
   "metadata": {},
   "outputs": [],
   "source": [
    "import pandas as pd \n",
    "import numpy as np\n",
    "import plotly.graph_objects as go"
   ]
  },
  {
   "cell_type": "code",
   "execution_count": 2,
   "id": "498b94ee",
   "metadata": {},
   "outputs": [],
   "source": [
    "df = pd.read_csv(\"assets_viejos/native_contact5series.dat\",sep=\"\\s+\") \n",
    "# df = df.set_index('#Frame')"
   ]
  },
  {
   "cell_type": "code",
   "execution_count": 4,
   "id": "e13f921d",
   "metadata": {},
   "outputs": [],
   "source": [
    "nn = pd.read_csv(\"assets_viejos/nonnative_contact5series-002.dat\",sep=\"\\s+\") \n",
    "# nn = nn.set_index('#Frame')"
   ]
  },
  {
   "cell_type": "code",
   "execution_count": null,
   "id": "f725b499",
   "metadata": {},
   "outputs": [],
   "source": [
    "cc = df.merge(nn, on='#Frame')\n",
    "cc = cc.set_index('#Frame')"
   ]
  },
  {
   "cell_type": "code",
   "execution_count": null,
   "id": "52dbb48f",
   "metadata": {},
   "outputs": [],
   "source": [
    "df.columns.shape,nn.columns.shape, cc.columns.shape"
   ]
  },
  {
   "cell_type": "code",
   "execution_count": null,
   "id": "c2612529",
   "metadata": {},
   "outputs": [],
   "source": [
    "#Definimos las subpartes de analisis de e2012  y de la cavidad\n",
    "imidazol = [\"@N2_\", \"@C10_\", \"@N3_\", \"@C23_\", \"@C22_\",\"@H9_\", \"@H20_\", \"@C25_\", \"@H24_\", \"@H25_\", \"@H26_\"]\n",
    "metoxi = [\"@C20_\", \"@C8_\", \"@C19_\", \"@C17_\", \"@C5_\", \"@C9_\", \"@O2_\", \"@C24_\", \"@H21_\", \"@H22_\", \"@H23_\", \"@H19_\", \"@H5_\", \"@H8_\"]\n",
    "piper = [\"@C14_\", \"@C15_\", \"@N1_\", \"@C11_\", \"@C12_\", \"@C1_\", \"@O1_\", \"@H10_\", \"@H11_\", \"@H12_\", \"@H13_\", \"@H1_\", \"@H2_\", \"@C3_\", \"@H3_\", \"@C13_\", \"@H14_\"]\n",
    "metil = [\"@C13_\", \"@H14_\", \"@C16_\", \"@H15_\", \"@H16_\", \"@H17_\"]\n",
    "fluoro = [\"@C2_\", \"@C4_\", \"@C6_\", \"@C21_\", \"@C7_\", \"@C18_\", \"@H4_\", \"@H6_\", \"@F1_\", \"@H7_\", \"@H18_\"]\n",
    "partes_e2012 = [imidazol,metoxi,piper,metil,fluoro]\n",
    "cav= [\"210\",\"211\",\"701\", \"702\", \"706\", \"707\",\"708\",\"709\",\"710\",\"711\",\"712\",\"713\", \"769\", \"772\",\"773\",\"774\", \"776\", \"777\", \"780\", \"827\",\"828\",\"829\",\"830\",\"831\",\"832\",\"833\", \"835\",\"836\",\"1332\",\"1333\",\"1334\",\"1335\", \"1338\",\"1339\",\"1340\", \"1342\",\"1343\",\"1344\",\"1345\",\"1346\"]\n",
    "cav_chido =['NCST-ILE-242', 'NCST-ASN-243', 'PSEN-PHE-105', 'PSEN-TYR-106', 'PSEN-ASP-110', 'PSEN-GLY-111','PSEN-GLN-112', 'PSEN-LEU-113', 'PSEN-ILE-114', 'PSEN-TYR-115', 'PSEN-THR-116', 'PSEN-PRO-117','PSEN-LEU-173', 'PSEN-PHE-176', 'PSEN-PHE-177', 'PSEN-SER-178', 'PSEN-ILE-180', 'PSEN-TYR-181','PSEN-GLU-184', 'PSEN-ALA-231', 'PSEN-LEU-232', 'PSEN-MET-233', 'PSEN-ALA-234', 'PSEN-LEU-235','PSEN-VAL-236', 'PSEN-PHE-237', 'PSEN-LYS-239', 'PSEN-TYR-240','AB-GLY-25', 'AB-SER-26','AB-ASN-27', 'AB-LYS-28', 'AB-ILE-31', 'AB-ILE-32','AB-GLY-33', 'AB-MET-35', 'AB-VAL-36', 'AB-GLY-37', 'AB-GLY-38','AB-VAL-39']\n",
    "\n",
    "#Primero vamos a separar el df de contactos en cada una de las subpartes\n",
    "cols = [[] for i in partes_e2012]\n",
    "c = -1\n",
    "for partes in partes_e2012:\n",
    "    c+=1\n",
    "    for atom in partes:\n",
    "        for  col in df.columns.values:\n",
    "            if atom in col:\n",
    "                cols[c].append(col)\n",
    "                "
   ]
  },
  {
   "cell_type": "code",
   "execution_count": null,
   "id": "3dad2bd6",
   "metadata": {},
   "outputs": [],
   "source": [
    "#Ahora vamos a separar por subpartes y por cada aminoacido, asi podemos ver con quien si esta interactuando\n",
    "cols_amino = [[[] for i in cav] for j in partes_e2012]\n",
    "c = -1\n",
    "for partes in cols:              #Para cada parte en e2012\n",
    "    c+=1\n",
    "    c2=-1\n",
    "    for aa in cav:               #checar cada aminoacido\n",
    "        c2+=1\n",
    "        for atom in partes:     #si hay un contacto o no \n",
    "            if aa in atom:\n",
    "                cols_amino[c][c2].append(atom)\n",
    "\n",
    "#Hagamos la sumas de los contactos\n",
    "contactos = [[[] for i in cav] for j in partes_e2012]\n",
    "c = -1\n",
    "for i in  cols_amino:\n",
    "    c+=1\n",
    "    c2=-1\n",
    "    for amino in i:\n",
    "        c2+=1\n",
    "        if len(amino)==0:\n",
    "            contactos[c][c2].append(0)\n",
    "        else:\n",
    "#             contactos[c][c2].append(np.mean(np.sum(df[cols_amino[c][c2]].values, axis=1)/len(cols_amino[c][c2])))\n",
    "            contactos[c][c2].append(np.mean(np.sum(df[cols_amino[c][c2]].values, axis=1)))"
   ]
  },
  {
   "cell_type": "code",
   "execution_count": null,
   "id": "e73221b1",
   "metadata": {},
   "outputs": [],
   "source": [
    "contactos = np.array(contactos).reshape(5,40)\n",
    "\n",
    "fig2 = go.Figure()\n",
    "fig2.add_traces(go.Heatmap(z=contactos.flatten(),\n",
    "                          x=cav_chido*5,\n",
    "                          y=np.array([[i]*len(cav) for i in[\"Imidazol\",\"Metoxibenceno\",\"Piperidona\",\"Metilo\",\"Fluorobencilo\"]]).flatten(),\n",
    "                          colorscale='OrRd'))\n",
    "\n",
    "fig2.update_layout(title='Matriz de contactos <br> E2012-Cavidad',title_x=0.5)\n",
    "fig2.data[0].colorbar.title.text = \"Núm. contactos normalizados\"\n",
    "fig2.data[0].colorbar.titleside = \"right\"\n",
    "fig2.update_xaxes(title=\"Cavidad\",tickangle=-90)\n",
    "fig2.update_yaxes(title=\"E2012\")"
   ]
  },
  {
   "cell_type": "code",
   "execution_count": null,
   "id": "75bbfb0c",
   "metadata": {},
   "outputs": [],
   "source": [
    "maa = -3\n",
    "maximos_cont = np.sort(contactos,axis=1)[:,maa:]   #Obtiene los maa residuos con los que esta mas cerca\n",
    "maximos_cont = np.fliplr(maximos_cont)"
   ]
  },
  {
   "cell_type": "code",
   "execution_count": null,
   "id": "617deaae",
   "metadata": {},
   "outputs": [],
   "source": [
    "ys =[]\n",
    "for i in maximos_cont:                          #Vamos a obtener el indice de cada contacto maximo\n",
    "    for j in i:                         \n",
    "        x,y=(np.where(contactos==j))\n",
    "        ys.append(y[0])\n",
    "        \n",
    "#Son el id y el resname de los residuos que tienen mas cera\n",
    "res_min_cav =np.array([cav_chido[i] for i in ys]).reshape(5,maa)"
   ]
  },
  {
   "cell_type": "code",
   "execution_count": null,
   "id": "28053ed2",
   "metadata": {},
   "outputs": [],
   "source": [
    "#Hagamos la sumas de los contactos\n",
    "contactos_maximos = [[[] for i in range(abs(maa))] for j in partes_e2012]\n",
    "ys = np.array(ys).reshape(5,maa)\n",
    "c = -1\n",
    "for i in  cols_amino:\n",
    "    c+=1\n",
    "    c2=-1\n",
    "    for amino_max in ys[c]:\n",
    "        c2+=1\n",
    "        contactos_maximos[c][c2].append(np.sum(df[i[amino_max]].values, axis=1)/len(i[amino_max]))\n",
    "\n",
    "contactos_maximos = np.squeeze(np.array(contactos_maximos))"
   ]
  },
  {
   "cell_type": "code",
   "execution_count": null,
   "id": "c246cdd0",
   "metadata": {
    "scrolled": true
   },
   "outputs": [],
   "source": [
    "viol = go.Figure()\n",
    "for i in range(abs(maa)):\n",
    "    viol.add_traces(go.Violin(y=contactos_maximos[0][i],x=[res_min_cav[0][i]]*df.shape[0],\n",
    "                             line_color=\"indianred\",\n",
    "                             meanline_visible=True,))\n",
    "viol"
   ]
  },
  {
   "cell_type": "code",
   "execution_count": null,
   "id": "e7047377",
   "metadata": {},
   "outputs": [],
   "source": []
  }
 ],
 "metadata": {
  "kernelspec": {
   "display_name": "Python 3 (ipykernel)",
   "language": "python",
   "name": "python3"
  },
  "language_info": {
   "codemirror_mode": {
    "name": "ipython",
    "version": 3
   },
   "file_extension": ".py",
   "mimetype": "text/x-python",
   "name": "python",
   "nbconvert_exporter": "python",
   "pygments_lexer": "ipython3",
   "version": "3.10.12"
  },
  "toc": {
   "base_numbering": 1,
   "nav_menu": {},
   "number_sections": true,
   "sideBar": true,
   "skip_h1_title": false,
   "title_cell": "Table of Contents",
   "title_sidebar": "Contents",
   "toc_cell": false,
   "toc_position": {},
   "toc_section_display": true,
   "toc_window_display": false
  }
 },
 "nbformat": 4,
 "nbformat_minor": 5
}
